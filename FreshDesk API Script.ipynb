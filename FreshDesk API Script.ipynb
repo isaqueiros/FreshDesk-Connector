{
 "cells": [
  {
   "cell_type": "markdown",
   "id": "044cbb97",
   "metadata": {},
   "source": [
    "# FreshDesk API"
   ]
  },
  {
   "cell_type": "code",
   "execution_count": 16,
   "id": "a3d1797d",
   "metadata": {},
   "outputs": [],
   "source": [
    "import pandas as pd\n",
    "import requests\n",
    "import json\n",
    "import numpy as np"
   ]
  },
  {
   "cell_type": "code",
   "execution_count": 17,
   "id": "a0ef2509",
   "metadata": {},
   "outputs": [],
   "source": [
    "API_KEY = \"API_KEY\"\n",
    "MyDomain = \"Domain\" #e.g. for testdomain.freshworks.com, the MyDomain = testdomain\n",
    "password = \"password\""
   ]
  },
  {
   "cell_type": "markdown",
   "id": "68fb7c70",
   "metadata": {},
   "source": [
    "## Tickets & Emails Request"
   ]
  },
  {
   "cell_type": "code",
   "execution_count": 29,
   "id": "50cbb483",
   "metadata": {},
   "outputs": [],
   "source": [
    "tickets=[]\n",
    "emailMessage =[]\n",
    "\n",
    "responseAllTickets = requests.get(\"https://\"+ MyDomain +\".freshdesk.com/api/v2/tickets\", auth = (API_KEY, password)).json()\n",
    "for ticket in responseAllTickets:\n",
    "        tickets.append(ticket)\n",
    "        \n",
    "        tempId = str(ticket['id'])\n",
    "        ticketConversation = requests.get(\"https://\"+ MyDomain +\".freshdesk.com/api/v2/tickets/\"+tempId+\"/conversations\", auth = (API_KEY, password)).json()\n",
    "        if str(ticketConversation) !='[]':\n",
    "            for email in ticketConversation:\n",
    "                emailMessage.append(email)\n",
    "        \n",
    "Tickets = pd.DataFrame(tickets)\n",
    "emailHistory = pd.DataFrame(emailMessage)"
   ]
  },
  {
   "cell_type": "markdown",
   "id": "c6dcccb9",
   "metadata": {},
   "source": [
    "## Internal Comms Table"
   ]
  },
  {
   "cell_type": "code",
   "execution_count": 19,
   "id": "7c5c169a",
   "metadata": {},
   "outputs": [],
   "source": [
    "#Below includes notes and internal emails\n",
    "\n",
    "internalEmailHistory = emailHistory[emailHistory.private==True]\n",
    "internalEmailHistory = internalEmailHistory[['body_text','id','ticket_id','user_id','to_emails','from_email',\n",
    "                    'attachments','created_at','updated_at','email_failure_count','outgoing_failures']].rename(columns={'id':'ID',\n",
    "                    'body_text':'BodyText','ticket_id':'TicketID','user_id':'UserID','to_emails':'ToEmails',\n",
    "                    'from_email':'FromEmail','created_at':'CreatedDt','updated_at':'UpdatedDt',\n",
    "                    'email_failure_count':'EmailFailureCount','outgoing_failures':'OutgoingFailures'})\n",
    "internalEmailHistory['Attachments'] = np.where(internalEmailHistory['attachments'].str.len()==0, False, True)\n",
    "internalEmailHistory['CreatedDt'] = pd.to_datetime(internalEmailHistory['CreatedDt']).dt.date\n",
    "internalEmailHistory['UpdatedDt'] = pd.to_datetime(internalEmailHistory['UpdatedDt']).dt.date"
   ]
  },
  {
   "cell_type": "code",
   "execution_count": 20,
   "id": "eb8595c1",
   "metadata": {},
   "outputs": [],
   "source": [
    "#Internal Type based on Body Text of communication\n",
    "\n",
    "internalEmailsConditions = [internalEmailHistory['BodyText'].str.contains(\"Abandoned call from\"),\n",
    "                           internalEmailHistory['BodyText'].str.contains(\"Voicemail from\"),\n",
    "                           internalEmailHistory['BodyText'].str.contains(\"This ticket is closed and merged into ticket\"),\n",
    "                           internalEmailHistory['BodyText'].str.contains(\"Unanswered call\"),\n",
    "                           internalEmailHistory['BodyText'].str.contains(\"Conversation between\")]\n",
    "internalEmailsResults = [\"Abandoned Call\",\"Voicemail\",\"Merged Ticket\",\"Unanswered Call\",\"Internal Conversation\"] \n",
    "\n",
    "internalEmailHistory['InternalType'] = np.select(internalEmailsConditions,internalEmailsResults, default = \"Notes\")"
   ]
  },
  {
   "cell_type": "markdown",
   "id": "d2c7998f",
   "metadata": {},
   "source": [
    "## External Comms Table"
   ]
  },
  {
   "cell_type": "code",
   "execution_count": 21,
   "id": "6b5a3130",
   "metadata": {},
   "outputs": [],
   "source": [
    "emailHistory = emailHistory[emailHistory.private==False]\n",
    "emailHistory = emailHistory[['id','incoming','ticket_id','user_id','to_emails','from_email','body_text',\n",
    "              'attachments','created_at','updated_at','email_failure_count','outgoing_failures']].rename(columns={\"id\":\"ID\",\n",
    "              \"ticket_id\":\"TicketID\",\"user_id\":\"UserID\",\"category\":\"Category\",\"to_emails\":\"ToEmails\",\"from_email\":\"FromEmail\",\n",
    "              \"created_at\":\"CreatedDt\", \"updated_at\":\"UpdatedDt\",'email_failure_count':'EmailFailureCount',\n",
    "              'outgoing_failures':'OutgoingFailures'})\n",
    "emailHistory['Attachments'] = np.where(emailHistory['attachments'].str.len()==0, False, True)\n",
    "emailHistory['CreatedDt'] = pd.to_datetime(emailHistory['CreatedDt']).dt.date\n",
    "emailHistory['UpdatedDt'] = pd.to_datetime(emailHistory['UpdatedDt']).dt.date"
   ]
  },
  {
   "cell_type": "markdown",
   "id": "0884dcb8",
   "metadata": {},
   "source": [
    "## Tickets Table"
   ]
  },
  {
   "cell_type": "code",
   "execution_count": 22,
   "id": "fc39b62e",
   "metadata": {},
   "outputs": [],
   "source": [
    "Tickets = Tickets.astype({'company_id':'str', 'requester_id':'str','responder_id':'str','id':'str','group_id':'str',\n",
    "                          'source':'str','priority':'str','status':'str'})\n",
    "Tickets['company_id'] = Tickets['company_id'].str[:-2]\n",
    "Tickets['responder_id'] = Tickets['responder_id'].str[:-2]\n",
    "Tickets['group_id'] = Tickets['group_id'].str[:-2]\n",
    "Tickets['fr_due_by'] = pd.to_datetime(Tickets['fr_due_by']).dt.date\n",
    "Tickets['created_at'] = pd.to_datetime(Tickets['created_at']).dt.date\n",
    "Tickets['updated_at'] = pd.to_datetime(Tickets['updated_at']).dt.date"
   ]
  },
  {
   "cell_type": "code",
   "execution_count": 23,
   "id": "2fb0232f",
   "metadata": {},
   "outputs": [],
   "source": [
    "Tickets = Tickets[['id','priority','group_id','type','source','company_id','status','requester_id', 'responder_id',\n",
    "                'fr_due_by','fr_escalated','product_id','is_escalated','associated_tickets_count','created_at', \n",
    "                'updated_at']].rename(columns={'id':'ID','priority':'Priority','group_id':'GroupID','type':'Type',\n",
    "                'source':'Source','company_id':'CompanyID','status':'Status','requester_id':'RequesterID',\n",
    "                'responder_id':'ResponderID','fr_escalated':'FirstResponseEscalated','product_id':'ProductID',\n",
    "                'is_escalated':'IsEscalated','associated_tickets_count':'AssociatedTicketsCount',\n",
    "                'fr_due_by':'FirstResponseDueDt','created_at':'CreatedDt', 'updated_at':'UpdatedDt'})"
   ]
  },
  {
   "cell_type": "code",
   "execution_count": 24,
   "id": "051e0b38",
   "metadata": {},
   "outputs": [],
   "source": [
    "def ticketSource(source):\n",
    "    switcher={\n",
    "        \"1\":\"Email\",\n",
    "        \"2\":\"Portal\",\n",
    "        \"3\":\"Phone\",\n",
    "        \"4\":\"Forum\",\n",
    "        \"5\":\"Twitter\",\n",
    "        \"6\":\"Facebook\",\n",
    "        \"7\":\"Chat\",\n",
    "        \"8\":\"Mobihelp\",\n",
    "        \"9\":\"Feedback Widget\",\n",
    "        \"10\":\"Outbound Email\",\n",
    "        \"11\":\"Ecommerce\"\n",
    "        }\n",
    "    return switcher.get(source,\"UnknownSource\")\n",
    "\n",
    "Tickets['Source'] =Tickets['Source'].apply(ticketSource)"
   ]
  },
  {
   "cell_type": "code",
   "execution_count": 25,
   "id": "c14c981b",
   "metadata": {},
   "outputs": [],
   "source": [
    "def ticketPriority(priority):\n",
    "    switcher={\n",
    "        \"1\":\"Low\",\n",
    "        \"2\":\"Medium\",\n",
    "        \"3\":\"High\",\n",
    "        \"4\":\"Urgent\"\n",
    "        }\n",
    "    return switcher.get(priority,\"UnknownPriority\")\n",
    "\n",
    "Tickets['Priority'] =Tickets['Priority'].apply(ticketPriority)"
   ]
  },
  {
   "cell_type": "code",
   "execution_count": 26,
   "id": "b8fd0c94",
   "metadata": {},
   "outputs": [],
   "source": [
    "def ticketStatus(status):\n",
    "    switcher={\n",
    "        \"2\":\"Open\",\n",
    "        \"3\":\"Pending\",\n",
    "        \"4\":\"Resolved\",\n",
    "        \"5\":\"Closed\"\n",
    "        }\n",
    "    return switcher.get(status,\"UnknownStatus\")\n",
    "\n",
    "Tickets['Status'] =Tickets['Status'].apply(ticketStatus)"
   ]
  },
  {
   "cell_type": "markdown",
   "id": "459314f6",
   "metadata": {},
   "source": [
    "## Groups Table"
   ]
  },
  {
   "cell_type": "code",
   "execution_count": 33,
   "id": "da3f07d2",
   "metadata": {},
   "outputs": [],
   "source": [
    "groups=[]\n",
    "responseAllGroups = requests.get(\"https://\"+ MyDomain +\".freshdesk.com/api/v2/groups/\", auth = (API_KEY, password)).json()\n",
    "for group in responseAllGroups:\n",
    "        groups.append(group)\n",
    "        \n",
    "        \n",
    "Groups = pd.DataFrame(groups)"
   ]
  },
  {
   "cell_type": "code",
   "execution_count": 35,
   "id": "0ddec784",
   "metadata": {},
   "outputs": [],
   "source": [
    "Groups['created_at'] = pd.to_datetime(Groups['created_at']).dt.date\n",
    "Groups['updated_at'] = pd.to_datetime(Groups['updated_at']).dt.date\n",
    "\n",
    "Groups = Groups[['id','name','created_at','updated_at']].rename(columns={\"id\":\"ID\",\"name\":\"Name\",\"created_at\":\"CreatedDt\",\n",
    "                                                                         \"updated_at\":\"UpdatedDt\"})"
   ]
  },
  {
   "cell_type": "markdown",
   "id": "b394c25f",
   "metadata": {},
   "source": [
    "## OpCos Table"
   ]
  },
  {
   "cell_type": "code",
   "execution_count": 40,
   "id": "0b3c4a6b",
   "metadata": {},
   "outputs": [],
   "source": [
    "companies=[]\n",
    "responseAllCompanies = requests.get(\"https://\"+ MyDomain +\".freshdesk.com/api/v2/companies\", auth = (API_KEY, password)).json()\n",
    "for company in responseAllCompanies:\n",
    "        companies.append(company)\n",
    "        \n",
    "        \n",
    "Company = pd.DataFrame(companies)"
   ]
  },
  {
   "cell_type": "markdown",
   "id": "406269f9",
   "metadata": {},
   "source": [
    "## Contacts Table"
   ]
  },
  {
   "cell_type": "code",
   "execution_count": 45,
   "id": "aa461b29",
   "metadata": {},
   "outputs": [],
   "source": [
    "contacts=[]\n",
    "responseAllContacts = requests.get(\"https://\"+ MyDomain +\".freshdesk.com/api/v2/contacts?per_page=100\", auth = (API_KEY, password)).json()\n",
    "for contact in responseAllContacts:\n",
    "        contacts.append(contact)\n",
    "\n",
    "Contact = pd.DataFrame(contacts)\n",
    "\n",
    "Contact = Contact[['id','active','email','job_title','mobile','name','phone','created_at']]"
   ]
  }
 ],
 "metadata": {
  "kernelspec": {
   "display_name": "Python 3 (ipykernel)",
   "language": "python",
   "name": "python3"
  },
  "language_info": {
   "codemirror_mode": {
    "name": "ipython",
    "version": 3
   },
   "file_extension": ".py",
   "mimetype": "text/x-python",
   "name": "python",
   "nbconvert_exporter": "python",
   "pygments_lexer": "ipython3",
   "version": "3.9.12"
  }
 },
 "nbformat": 4,
 "nbformat_minor": 5
}
